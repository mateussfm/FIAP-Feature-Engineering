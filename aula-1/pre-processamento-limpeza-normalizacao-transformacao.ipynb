{
 "cells": [
  {
   "cell_type": "markdown",
   "metadata": {},
   "source": [
    "# Pré-inicio da pasta, environment\n",
    "\n",
    "python -m venv venv\n",
    "\n",
    ".\\venv\\Scripts\\activate\n",
    "\n",
    "pip install -r .\\requirements.txt"
   ]
  },
  {
   "cell_type": "markdown",
   "metadata": {},
   "source": [
    "# Pré-processamento de dados, limpeza, normalização e transformação"
   ]
  },
  {
   "cell_type": "markdown",
   "metadata": {},
   "source": [
    "# 1 Importação das bibliotecas necessárias"
   ]
  },
  {
   "cell_type": "code",
   "execution_count": 98,
   "metadata": {},
   "outputs": [],
   "source": [
    "import pandas as pd\n",
    "import numpy as np\n",
    "from sklearn.model_selection import train_test_split\n",
    "from sklearn.preprocessing import StandardScaler\n",
    "from sklearn.impute import SimpleImputer\n",
    "from sklearn.linear_model import LogisticRegression\n",
    "from sklearn.metrics import accuracy_score, confusion_matrix\n",
    "import matplotlib.pyplot as plt\n",
    "import seaborn as sns"
   ]
  },
  {
   "cell_type": "markdown",
   "metadata": {},
   "source": [
    "# 2 Carregamento do dataset"
   ]
  },
  {
   "cell_type": "markdown",
   "metadata": {},
   "source": [
    "O dataset \"Heart Disease\" contém informações médicas de pacientes, coletadas para estudar a presença de doenças cardíacas. Ele possui 14 atributos, que são:\n",
    "\n",
    "- Principais Características do Dataset:\n",
    "    - age: Idade\n",
    "    - sex: Sexo (1 = masculino, 0 = feminino)\n",
    "    - cp: Tipo de dor no peito (1 a 4)\n",
    "    - trestbps: Pressão arterial em repouso\n",
    "    - chol: Colesterol sérico em mg/dl\n",
    "    - fbs: Açúcar no sangue em jejum (1 = verdadeiro, 0 = falso)\n",
    "    - restecg: Resultados do eletrocardiograma em repouso (0 a 2)\n",
    "    - thalach: Frequência cardíaca máxima atingida\n",
    "    - exang: Angina induzida por exercício (1 = sim, 0 = não)\n",
    "    - oldpeak: Depressão do segmento ST induzida por exercício em relação ao repouso\n",
    "    - slope: Inclinação do segmento ST no pico do exercício (1 a 3)\n",
    "    - ca: Número de vasos principais (0-3) coloridos por fluoroscopia\n",
    "    - thal: Talassemia (3 = normal, 6 = fixo, 7 = reversível)\n",
    "    - target: Diagnóstico de doença cardíaca (0 = ausência, 1 a 4 = presença)\n",
    "\n",
    "- Importância das Variáveis:\n",
    "    - age: A idade é um fator de risco importante para doenças cardíacas.\n",
    "    - sex: O sexo pode influenciar a probabilidade de doenças cardíacas.\n",
    "    - cp: O tipo de dor no peito fornece informações sobre possíveis condições cardíacas.\n",
    "    - trestbps: A pressão arterial elevada pode estar associada a doenças cardíacas.\n",
    "    - chol: Níveis altos de colesterol estão relacionados a um maior risco de doenças cardíacas.\n",
    "    - fbs: A presença de açúcar no sangue em jejum é um fator de risco para doenças cardíacas.\n",
    "    - restecg: Anomalidades no eletrocardiograma em repouso podem indicar problemas cardíacos.\n",
    "    - thalach: Uma frequência cardíaca máxima baixa pode estar associada a problemas cardíacos.\n",
    "    - exang: A angina induzida por exercício pode ser um sinal de doença cardíaca.\n",
    "    - oldpeak: A depressão do segmento ST pode indicar isquemia cardíaca.\n",
    "    - slope: A inclinação do segmento ST pode fornecer informações adicionais sobre a gravidade da doença.\n",
    "    - ca: O número de vasos coloridos pode indicar a presença de doença arterial coronariana.\n",
    "    - thal: Diferentes tipos de talassemia podem influenciar o risco de doenças cardíacas.\n",
    "    - target: A variável alvo indica a presença ou ausência de doenças cardíacas e é a principal variável para predição.\n",
    "\n",
    "- Fonte do Dataset\n",
    "    - O dataset está originalmente disponível em: UCI Machine Learning Repository\n",
    "    - Para carregar o dataset em um DataFrame do pandas:\n",
    "\n",
    "        import pandas as pd\n",
    "\n",
    "        url = 'https://archive.ics.uci.edu/ml/machine-learning-databases/heart-disease/processed.cleveland.data'\n",
    "\n",
    "        df = pd.read_csv(url, delimiter=';')"
   ]
  },
  {
   "cell_type": "code",
   "execution_count": 99,
   "metadata": {},
   "outputs": [],
   "source": [
    "df = pd.read_csv('datasets/heart_disease.csv', delimiter=\",\")"
   ]
  },
  {
   "cell_type": "markdown",
   "metadata": {},
   "source": [
    "# 3 Análise inicial do dataset"
   ]
  },
  {
   "cell_type": "markdown",
   "metadata": {},
   "source": [
    "## 3.1 Primeiras linhas do dataset"
   ]
  },
  {
   "cell_type": "code",
   "execution_count": 100,
   "metadata": {},
   "outputs": [
    {
     "data": {
      "text/html": [
       "<div>\n",
       "<style scoped>\n",
       "    .dataframe tbody tr th:only-of-type {\n",
       "        vertical-align: middle;\n",
       "    }\n",
       "\n",
       "    .dataframe tbody tr th {\n",
       "        vertical-align: top;\n",
       "    }\n",
       "\n",
       "    .dataframe thead th {\n",
       "        text-align: right;\n",
       "    }\n",
       "</style>\n",
       "<table border=\"1\" class=\"dataframe\">\n",
       "  <thead>\n",
       "    <tr style=\"text-align: right;\">\n",
       "      <th></th>\n",
       "      <th>age</th>\n",
       "      <th>sex</th>\n",
       "      <th>cp</th>\n",
       "      <th>trestbps</th>\n",
       "      <th>chol</th>\n",
       "      <th>fbs</th>\n",
       "      <th>restecg</th>\n",
       "      <th>thalach</th>\n",
       "      <th>exang</th>\n",
       "      <th>oldpeak</th>\n",
       "      <th>slope</th>\n",
       "      <th>ca</th>\n",
       "      <th>thal</th>\n",
       "      <th>target</th>\n",
       "    </tr>\n",
       "  </thead>\n",
       "  <tbody>\n",
       "    <tr>\n",
       "      <th>0</th>\n",
       "      <td>63.0</td>\n",
       "      <td>1.0</td>\n",
       "      <td>?</td>\n",
       "      <td>145.0</td>\n",
       "      <td>233.0</td>\n",
       "      <td>1.0</td>\n",
       "      <td>2.0</td>\n",
       "      <td>150.0</td>\n",
       "      <td>0.0</td>\n",
       "      <td>?</td>\n",
       "      <td>3.0</td>\n",
       "      <td>0.0</td>\n",
       "      <td>6.0</td>\n",
       "      <td>0</td>\n",
       "    </tr>\n",
       "    <tr>\n",
       "      <th>1</th>\n",
       "      <td>67.0</td>\n",
       "      <td>?</td>\n",
       "      <td>4.0</td>\n",
       "      <td>160.0</td>\n",
       "      <td>286.0</td>\n",
       "      <td>0.0</td>\n",
       "      <td>2.0</td>\n",
       "      <td>108.0</td>\n",
       "      <td>1.0</td>\n",
       "      <td>1.5</td>\n",
       "      <td>2.0</td>\n",
       "      <td>3.0</td>\n",
       "      <td>3.0</td>\n",
       "      <td>2</td>\n",
       "    </tr>\n",
       "    <tr>\n",
       "      <th>2</th>\n",
       "      <td>67.0</td>\n",
       "      <td>1.0</td>\n",
       "      <td>4.0</td>\n",
       "      <td>120.0</td>\n",
       "      <td>?</td>\n",
       "      <td>0.0</td>\n",
       "      <td>2.0</td>\n",
       "      <td>129.0</td>\n",
       "      <td>?</td>\n",
       "      <td>2.6</td>\n",
       "      <td>2.0</td>\n",
       "      <td>2.0</td>\n",
       "      <td>7.0</td>\n",
       "      <td>1</td>\n",
       "    </tr>\n",
       "    <tr>\n",
       "      <th>3</th>\n",
       "      <td>37.0</td>\n",
       "      <td>1.0</td>\n",
       "      <td>3.0</td>\n",
       "      <td>130.0</td>\n",
       "      <td>250.0</td>\n",
       "      <td>0.0</td>\n",
       "      <td>0.0</td>\n",
       "      <td>187.0</td>\n",
       "      <td>0.0</td>\n",
       "      <td>3.5</td>\n",
       "      <td>3.0</td>\n",
       "      <td>0.0</td>\n",
       "      <td>3.0</td>\n",
       "      <td>0</td>\n",
       "    </tr>\n",
       "    <tr>\n",
       "      <th>4</th>\n",
       "      <td>41.0</td>\n",
       "      <td>0.0</td>\n",
       "      <td>2.0</td>\n",
       "      <td>130.0</td>\n",
       "      <td>?</td>\n",
       "      <td>?</td>\n",
       "      <td>2.0</td>\n",
       "      <td>172.0</td>\n",
       "      <td>0.0</td>\n",
       "      <td>1.4</td>\n",
       "      <td>1.0</td>\n",
       "      <td>0.0</td>\n",
       "      <td>3.0</td>\n",
       "      <td>0</td>\n",
       "    </tr>\n",
       "  </tbody>\n",
       "</table>\n",
       "</div>"
      ],
      "text/plain": [
       "    age  sex   cp trestbps   chol  fbs restecg thalach exang oldpeak slope  \\\n",
       "0  63.0  1.0    ?    145.0  233.0  1.0     2.0   150.0   0.0       ?   3.0   \n",
       "1  67.0    ?  4.0    160.0  286.0  0.0     2.0   108.0   1.0     1.5   2.0   \n",
       "2  67.0  1.0  4.0    120.0      ?  0.0     2.0   129.0     ?     2.6   2.0   \n",
       "3  37.0  1.0  3.0    130.0  250.0  0.0     0.0   187.0   0.0     3.5   3.0   \n",
       "4  41.0  0.0  2.0    130.0      ?    ?     2.0   172.0   0.0     1.4   1.0   \n",
       "\n",
       "    ca thal  target  \n",
       "0  0.0  6.0       0  \n",
       "1  3.0  3.0       2  \n",
       "2  2.0  7.0       1  \n",
       "3  0.0  3.0       0  \n",
       "4  0.0  3.0       0  "
      ]
     },
     "execution_count": 100,
     "metadata": {},
     "output_type": "execute_result"
    }
   ],
   "source": [
    "df.head()"
   ]
  },
  {
   "cell_type": "markdown",
   "metadata": {},
   "source": [
    "## 3.2 Informações do dataset"
   ]
  },
  {
   "cell_type": "code",
   "execution_count": 101,
   "metadata": {},
   "outputs": [
    {
     "name": "stdout",
     "output_type": "stream",
     "text": [
      "<class 'pandas.core.frame.DataFrame'>\n",
      "RangeIndex: 303 entries, 0 to 302\n",
      "Data columns (total 14 columns):\n",
      " #   Column    Non-Null Count  Dtype \n",
      "---  ------    --------------  ----- \n",
      " 0   age       303 non-null    object\n",
      " 1   sex       303 non-null    object\n",
      " 2   cp        303 non-null    object\n",
      " 3   trestbps  303 non-null    object\n",
      " 4   chol      303 non-null    object\n",
      " 5   fbs       303 non-null    object\n",
      " 6   restecg   303 non-null    object\n",
      " 7   thalach   303 non-null    object\n",
      " 8   exang     303 non-null    object\n",
      " 9   oldpeak   303 non-null    object\n",
      " 10  slope     303 non-null    object\n",
      " 11  ca        299 non-null    object\n",
      " 12  thal      301 non-null    object\n",
      " 13  target    303 non-null    int64 \n",
      "dtypes: int64(1), object(13)\n",
      "memory usage: 33.3+ KB\n"
     ]
    }
   ],
   "source": [
    "df.info()"
   ]
  },
  {
   "cell_type": "markdown",
   "metadata": {},
   "source": [
    "## 3.3 Estatisticas descritivas do dataset"
   ]
  },
  {
   "cell_type": "code",
   "execution_count": 102,
   "metadata": {},
   "outputs": [
    {
     "data": {
      "text/html": [
       "<div>\n",
       "<style scoped>\n",
       "    .dataframe tbody tr th:only-of-type {\n",
       "        vertical-align: middle;\n",
       "    }\n",
       "\n",
       "    .dataframe tbody tr th {\n",
       "        vertical-align: top;\n",
       "    }\n",
       "\n",
       "    .dataframe thead th {\n",
       "        text-align: right;\n",
       "    }\n",
       "</style>\n",
       "<table border=\"1\" class=\"dataframe\">\n",
       "  <thead>\n",
       "    <tr style=\"text-align: right;\">\n",
       "      <th></th>\n",
       "      <th>target</th>\n",
       "    </tr>\n",
       "  </thead>\n",
       "  <tbody>\n",
       "    <tr>\n",
       "      <th>count</th>\n",
       "      <td>303.000000</td>\n",
       "    </tr>\n",
       "    <tr>\n",
       "      <th>mean</th>\n",
       "      <td>0.937294</td>\n",
       "    </tr>\n",
       "    <tr>\n",
       "      <th>std</th>\n",
       "      <td>1.228536</td>\n",
       "    </tr>\n",
       "    <tr>\n",
       "      <th>min</th>\n",
       "      <td>0.000000</td>\n",
       "    </tr>\n",
       "    <tr>\n",
       "      <th>25%</th>\n",
       "      <td>0.000000</td>\n",
       "    </tr>\n",
       "    <tr>\n",
       "      <th>50%</th>\n",
       "      <td>0.000000</td>\n",
       "    </tr>\n",
       "    <tr>\n",
       "      <th>75%</th>\n",
       "      <td>2.000000</td>\n",
       "    </tr>\n",
       "    <tr>\n",
       "      <th>max</th>\n",
       "      <td>4.000000</td>\n",
       "    </tr>\n",
       "  </tbody>\n",
       "</table>\n",
       "</div>"
      ],
      "text/plain": [
       "           target\n",
       "count  303.000000\n",
       "mean     0.937294\n",
       "std      1.228536\n",
       "min      0.000000\n",
       "25%      0.000000\n",
       "50%      0.000000\n",
       "75%      2.000000\n",
       "max      4.000000"
      ]
     },
     "execution_count": 102,
     "metadata": {},
     "output_type": "execute_result"
    }
   ],
   "source": [
    "df.describe()"
   ]
  },
  {
   "cell_type": "markdown",
   "metadata": {},
   "source": [
    "# 4 Limpeza de dados"
   ]
  },
  {
   "cell_type": "markdown",
   "metadata": {},
   "source": [
    "## 4.1 Substituição dos valores faltantes (representados por '?')"
   ]
  },
  {
   "cell_type": "code",
   "execution_count": 103,
   "metadata": {},
   "outputs": [],
   "source": [
    "df.replace('?', np.nan, inplace=True)\n",
    "df = df.apply(pd.to_numeric)"
   ]
  },
  {
   "cell_type": "markdown",
   "metadata": {},
   "source": [
    "## 4.2 Imputação dos valores faltantes com a média da coluna"
   ]
  },
  {
   "cell_type": "code",
   "execution_count": 104,
   "metadata": {},
   "outputs": [],
   "source": [
    "imputer = SimpleImputer(missing_values=np.nan, strategy='median')\n",
    "df_imputed = pd.DataFrame(imputer.fit_transform(df),columns=df.columns)"
   ]
  },
  {
   "cell_type": "markdown",
   "metadata": {},
   "source": [
    "## 4.3 Dataset após imputação de valores faltantes"
   ]
  },
  {
   "cell_type": "code",
   "execution_count": 105,
   "metadata": {},
   "outputs": [
    {
     "name": "stdout",
     "output_type": "stream",
     "text": [
      "<class 'pandas.core.frame.DataFrame'>\n",
      "RangeIndex: 303 entries, 0 to 302\n",
      "Data columns (total 14 columns):\n",
      " #   Column    Non-Null Count  Dtype  \n",
      "---  ------    --------------  -----  \n",
      " 0   age       303 non-null    float64\n",
      " 1   sex       303 non-null    float64\n",
      " 2   cp        303 non-null    float64\n",
      " 3   trestbps  303 non-null    float64\n",
      " 4   chol      303 non-null    float64\n",
      " 5   fbs       303 non-null    float64\n",
      " 6   restecg   303 non-null    float64\n",
      " 7   thalach   303 non-null    float64\n",
      " 8   exang     303 non-null    float64\n",
      " 9   oldpeak   303 non-null    float64\n",
      " 10  slope     303 non-null    float64\n",
      " 11  ca        303 non-null    float64\n",
      " 12  thal      303 non-null    float64\n",
      " 13  target    303 non-null    float64\n",
      "dtypes: float64(14)\n",
      "memory usage: 33.3 KB\n"
     ]
    }
   ],
   "source": [
    "df_imputed.info()"
   ]
  },
  {
   "cell_type": "markdown",
   "metadata": {},
   "source": [
    "# 5 Normalização dos dados"
   ]
  },
  {
   "cell_type": "code",
   "execution_count": 106,
   "metadata": {},
   "outputs": [],
   "source": [
    "# Separar a coluna target\n",
    "target = df_imputed['target']\n",
    "features = df_imputed.drop(columns=['target'])\n",
    "\n",
    "# Escalar as features\n",
    "scaler = StandardScaler()\n",
    "scaled_features = pd.DataFrame(scaler.fit_transform(features), columns=features.columns)"
   ]
  },
  {
   "cell_type": "code",
   "execution_count": 107,
   "metadata": {},
   "outputs": [
    {
     "data": {
      "text/plain": [
       "0"
      ]
     },
     "metadata": {},
     "output_type": "display_data"
    },
    {
     "data": {
      "text/plain": [
       "1"
      ]
     },
     "metadata": {},
     "output_type": "display_data"
    }
   ],
   "source": [
    "# Scaler faz com que a média = 0 e o desvio padrão = 1\n",
    "display(round(scaled_features['age'].mean()))\n",
    "display(round(scaled_features['age'].std()))"
   ]
  },
  {
   "cell_type": "code",
   "execution_count": 108,
   "metadata": {},
   "outputs": [],
   "source": [
    "# Adicionar a coluna target de volta ao dataframe\n",
    "df_scaled = pd.concat([scaled_features, target], axis=1)"
   ]
  },
  {
   "cell_type": "markdown",
   "metadata": {},
   "source": [
    "## 5.1 Dataset após normalização"
   ]
  },
  {
   "cell_type": "code",
   "execution_count": 109,
   "metadata": {},
   "outputs": [
    {
     "data": {
      "text/html": [
       "<div>\n",
       "<style scoped>\n",
       "    .dataframe tbody tr th:only-of-type {\n",
       "        vertical-align: middle;\n",
       "    }\n",
       "\n",
       "    .dataframe tbody tr th {\n",
       "        vertical-align: top;\n",
       "    }\n",
       "\n",
       "    .dataframe thead th {\n",
       "        text-align: right;\n",
       "    }\n",
       "</style>\n",
       "<table border=\"1\" class=\"dataframe\">\n",
       "  <thead>\n",
       "    <tr style=\"text-align: right;\">\n",
       "      <th></th>\n",
       "      <th>age</th>\n",
       "      <th>sex</th>\n",
       "      <th>cp</th>\n",
       "      <th>trestbps</th>\n",
       "      <th>chol</th>\n",
       "      <th>fbs</th>\n",
       "      <th>restecg</th>\n",
       "      <th>thalach</th>\n",
       "      <th>exang</th>\n",
       "      <th>oldpeak</th>\n",
       "      <th>slope</th>\n",
       "      <th>ca</th>\n",
       "      <th>thal</th>\n",
       "      <th>target</th>\n",
       "    </tr>\n",
       "  </thead>\n",
       "  <tbody>\n",
       "    <tr>\n",
       "      <th>0</th>\n",
       "      <td>0.985556</td>\n",
       "      <td>0.639767</td>\n",
       "      <td>-0.149733</td>\n",
       "      <td>0.807551</td>\n",
       "      <td>-0.284766</td>\n",
       "      <td>2.458966</td>\n",
       "      <td>1.138226</td>\n",
       "      <td>-0.003251</td>\n",
       "      <td>-0.639767</td>\n",
       "      <td>-0.186577</td>\n",
       "      <td>2.256335</td>\n",
       "      <td>-0.659119</td>\n",
       "      <td>0.750261</td>\n",
       "      <td>0.0</td>\n",
       "    </tr>\n",
       "    <tr>\n",
       "      <th>1</th>\n",
       "      <td>1.458998</td>\n",
       "      <td>0.639767</td>\n",
       "      <td>0.956829</td>\n",
       "      <td>1.709128</td>\n",
       "      <td>0.791500</td>\n",
       "      <td>-0.406675</td>\n",
       "      <td>1.138226</td>\n",
       "      <td>-1.973195</td>\n",
       "      <td>1.563068</td>\n",
       "      <td>0.443566</td>\n",
       "      <td>0.592906</td>\n",
       "      <td>2.651044</td>\n",
       "      <td>-0.821138</td>\n",
       "      <td>2.0</td>\n",
       "    </tr>\n",
       "    <tr>\n",
       "      <th>2</th>\n",
       "      <td>1.458998</td>\n",
       "      <td>0.639767</td>\n",
       "      <td>0.956829</td>\n",
       "      <td>-0.695077</td>\n",
       "      <td>-0.081697</td>\n",
       "      <td>-0.406675</td>\n",
       "      <td>1.138226</td>\n",
       "      <td>-0.988223</td>\n",
       "      <td>-0.639767</td>\n",
       "      <td>1.433791</td>\n",
       "      <td>0.592906</td>\n",
       "      <td>1.547656</td>\n",
       "      <td>1.274061</td>\n",
       "      <td>1.0</td>\n",
       "    </tr>\n",
       "    <tr>\n",
       "      <th>3</th>\n",
       "      <td>-2.091816</td>\n",
       "      <td>0.639767</td>\n",
       "      <td>-0.149733</td>\n",
       "      <td>-0.094026</td>\n",
       "      <td>0.060452</td>\n",
       "      <td>-0.406675</td>\n",
       "      <td>-0.890494</td>\n",
       "      <td>1.732176</td>\n",
       "      <td>-0.639767</td>\n",
       "      <td>2.243975</td>\n",
       "      <td>2.256335</td>\n",
       "      <td>-0.659119</td>\n",
       "      <td>-0.821138</td>\n",
       "      <td>0.0</td>\n",
       "    </tr>\n",
       "    <tr>\n",
       "      <th>4</th>\n",
       "      <td>-1.618374</td>\n",
       "      <td>-1.563068</td>\n",
       "      <td>-1.256295</td>\n",
       "      <td>-0.094026</td>\n",
       "      <td>-0.081697</td>\n",
       "      <td>-0.406675</td>\n",
       "      <td>1.138226</td>\n",
       "      <td>1.028625</td>\n",
       "      <td>-0.639767</td>\n",
       "      <td>0.353546</td>\n",
       "      <td>-1.070524</td>\n",
       "      <td>-0.659119</td>\n",
       "      <td>-0.821138</td>\n",
       "      <td>0.0</td>\n",
       "    </tr>\n",
       "  </tbody>\n",
       "</table>\n",
       "</div>"
      ],
      "text/plain": [
       "        age       sex        cp  trestbps      chol       fbs   restecg  \\\n",
       "0  0.985556  0.639767 -0.149733  0.807551 -0.284766  2.458966  1.138226   \n",
       "1  1.458998  0.639767  0.956829  1.709128  0.791500 -0.406675  1.138226   \n",
       "2  1.458998  0.639767  0.956829 -0.695077 -0.081697 -0.406675  1.138226   \n",
       "3 -2.091816  0.639767 -0.149733 -0.094026  0.060452 -0.406675 -0.890494   \n",
       "4 -1.618374 -1.563068 -1.256295 -0.094026 -0.081697 -0.406675  1.138226   \n",
       "\n",
       "    thalach     exang   oldpeak     slope        ca      thal  target  \n",
       "0 -0.003251 -0.639767 -0.186577  2.256335 -0.659119  0.750261     0.0  \n",
       "1 -1.973195  1.563068  0.443566  0.592906  2.651044 -0.821138     2.0  \n",
       "2 -0.988223 -0.639767  1.433791  0.592906  1.547656  1.274061     1.0  \n",
       "3  1.732176 -0.639767  2.243975  2.256335 -0.659119 -0.821138     0.0  \n",
       "4  1.028625 -0.639767  0.353546 -1.070524 -0.659119 -0.821138     0.0  "
      ]
     },
     "execution_count": 109,
     "metadata": {},
     "output_type": "execute_result"
    }
   ],
   "source": [
    "df_scaled.head()"
   ]
  },
  {
   "cell_type": "markdown",
   "metadata": {},
   "source": [
    "# Machine Learning Section"
   ]
  },
  {
   "cell_type": "markdown",
   "metadata": {},
   "source": [
    "# 6 Separação dos dados brutos em treino e teste"
   ]
  },
  {
   "cell_type": "code",
   "execution_count": 110,
   "metadata": {},
   "outputs": [],
   "source": [
    "X_raw = df_imputed.drop('target', axis=1)\n",
    "y_raw = df_imputed['target']\n",
    "X_raw_train, X_raw_test, y_raw_train, y_raw_test = train_test_split(X_raw, y_raw, test_size=0.2, random_state=42)"
   ]
  },
  {
   "cell_type": "markdown",
   "metadata": {},
   "source": [
    "# 7 Modelo de Machine Learning com dados brutos"
   ]
  },
  {
   "cell_type": "markdown",
   "metadata": {},
   "source": [
    "## 7.1 Treinamento com dados brutos"
   ]
  },
  {
   "cell_type": "code",
   "execution_count": 111,
   "metadata": {},
   "outputs": [
    {
     "name": "stderr",
     "output_type": "stream",
     "text": [
      "q:\\OneDrive\\Github\\FIAP-Feature-Engineering\\venv\\Lib\\site-packages\\sklearn\\linear_model\\_logistic.py:469: ConvergenceWarning: lbfgs failed to converge (status=1):\n",
      "STOP: TOTAL NO. of ITERATIONS REACHED LIMIT.\n",
      "\n",
      "Increase the number of iterations (max_iter) or scale the data as shown in:\n",
      "    https://scikit-learn.org/stable/modules/preprocessing.html\n",
      "Please also refer to the documentation for alternative solver options:\n",
      "    https://scikit-learn.org/stable/modules/linear_model.html#logistic-regression\n",
      "  n_iter_i = _check_optimize_result(\n"
     ]
    }
   ],
   "source": [
    "model_raw = LogisticRegression(random_state=42)\n",
    "model_raw.fit(X_raw_train, y_raw_train)\n",
    "y_pred_raw = model_raw.predict(X_raw_test)"
   ]
  },
  {
   "cell_type": "markdown",
   "metadata": {},
   "source": [
    "## 7.2 Metricas de Avaliação"
   ]
  },
  {
   "cell_type": "code",
   "execution_count": 112,
   "metadata": {},
   "outputs": [],
   "source": [
    "accuracy_raw = accuracy_score(y_raw_test, y_pred_raw)\n",
    "conf_matrix_raw = confusion_matrix(y_raw_test, y_pred_raw)"
   ]
  },
  {
   "cell_type": "code",
   "execution_count": 113,
   "metadata": {},
   "outputs": [
    {
     "name": "stdout",
     "output_type": "stream",
     "text": [
      "Acurácia do modelo com dados brutos:  0.5409836065573771\n"
     ]
    }
   ],
   "source": [
    "print(\"Acurácia do modelo com dados brutos: \", accuracy_raw)"
   ]
  },
  {
   "cell_type": "code",
   "execution_count": 114,
   "metadata": {},
   "outputs": [
    {
     "name": "stdout",
     "output_type": "stream",
     "text": [
      "Matriz de confusão com dados brutos: \n",
      " [[27  1  1  0  0]\n",
      " [ 6  3  0  3  0]\n",
      " [ 1  4  0  4  0]\n",
      " [ 1  1  2  3  0]\n",
      " [ 0  0  2  2  0]]\n"
     ]
    }
   ],
   "source": [
    "print(\"Matriz de confusão com dados brutos: \\n\", conf_matrix_raw)"
   ]
  },
  {
   "cell_type": "markdown",
   "metadata": {},
   "source": [
    "# 8 Separação dos dados tratados em treino e teste"
   ]
  },
  {
   "cell_type": "code",
   "execution_count": 115,
   "metadata": {},
   "outputs": [],
   "source": [
    "X_treated = df_scaled.drop('target', axis=1)\n",
    "y_treated = df_scaled['target']\n",
    "X_treated_train, X_treated_test, y_treated_train, y_treated_test = train_test_split(X_treated, y_treated, test_size=0.2, random_state=42)"
   ]
  },
  {
   "cell_type": "markdown",
   "metadata": {},
   "source": [
    "# 9 Modelo de Machine Learning com dados tratados"
   ]
  },
  {
   "cell_type": "markdown",
   "metadata": {},
   "source": [
    "## 9.1 Treinamento com dados tratados"
   ]
  },
  {
   "cell_type": "code",
   "execution_count": 116,
   "metadata": {},
   "outputs": [],
   "source": [
    "model_treated = LogisticRegression(random_state=42)\n",
    "model_treated.fit(X_treated_train, y_treated_train)\n",
    "y_pred_treated = model_treated.predict(X_treated_test)"
   ]
  },
  {
   "cell_type": "markdown",
   "metadata": {},
   "source": [
    "## 9.2 Métricas de desempenho"
   ]
  },
  {
   "cell_type": "code",
   "execution_count": 117,
   "metadata": {},
   "outputs": [],
   "source": [
    "accuracy_treated = accuracy_score(y_treated_test, y_pred_treated)\n",
    "conf_matrix_treated = confusion_matrix(y_treated_test, y_pred_treated)"
   ]
  },
  {
   "cell_type": "code",
   "execution_count": 118,
   "metadata": {},
   "outputs": [
    {
     "name": "stdout",
     "output_type": "stream",
     "text": [
      "Acurácia do modelo com dados brutos:  0.5245901639344263\n"
     ]
    }
   ],
   "source": [
    "print(\"Acurácia do modelo com dados brutos: \", accuracy_treated)"
   ]
  },
  {
   "cell_type": "code",
   "execution_count": 119,
   "metadata": {},
   "outputs": [
    {
     "name": "stdout",
     "output_type": "stream",
     "text": [
      "Matriz de confusão com dados brutos: \n",
      " [[26  1  2  0  0]\n",
      " [ 4  3  1  4  0]\n",
      " [ 2  3  0  4  0]\n",
      " [ 1  2  1  3  0]\n",
      " [ 0  0  1  3  0]]\n"
     ]
    }
   ],
   "source": [
    "print(\"Matriz de confusão com dados brutos: \\n\", conf_matrix_treated)"
   ]
  },
  {
   "cell_type": "markdown",
   "metadata": {},
   "source": [
    "# 10 Comparação dos resultados"
   ]
  },
  {
   "cell_type": "markdown",
   "metadata": {},
   "source": [
    "## 10.1 Plot da matriz de confusão"
   ]
  },
  {
   "cell_type": "code",
   "execution_count": 120,
   "metadata": {},
   "outputs": [
    {
     "data": {
      "image/png": "[encoded data removed]",
      "text/plain": [
       "<Figure size 1400x500 with 4 Axes>"
      ]
     },
     "metadata": {},
     "output_type": "display_data"
    }
   ],
   "source": [
    "fig, ax = plt.subplots(1, 2, figsize=(14, 5))\n",
    "\n",
    "sns.heatmap(conf_matrix_raw, annot=True, fmt='d', ax=ax[0], cmap='Blues')\n",
    "ax[0].set_title('Matriz de Confusão - Dados Brutos')\n",
    "ax[0].set_xlabel('Predito')\n",
    "ax[0].set_ylabel('Verdadeiro')\n",
    "\n",
    "sns.heatmap(conf_matrix_treated, annot=True, fmt='d', ax=ax[1], cmap='Greens')\n",
    "ax[1].set_title('Matriz de Confusão - Dados Tratados')\n",
    "ax[1].set_xlabel('Predito')\n",
    "ax[1].set_ylabel('Verdadeiro')\n",
    "\n",
    "plt.tight_layout()\n",
    "plt.show()"
   ]
  },
  {
   "cell_type": "markdown",
   "metadata": {},
   "source": [
    "## 10.2 Comparação das acurácias"
   ]
  },
  {
   "cell_type": "code",
   "execution_count": 121,
   "metadata": {},
   "outputs": [
    {
     "name": "stdout",
     "output_type": "stream",
     "text": [
      "Acurácia com dados brutos: 0.5409836065573771\n",
      "Acurácia com dados tratados: 0.5245901639344263\n"
     ]
    }
   ],
   "source": [
    "print(\"Acurácia com dados brutos:\", accuracy_raw)\n",
    "print(\"Acurácia com dados tratados:\", accuracy_treated)"
   ]
  }
 ],
 "metadata": {
  "kernelspec": {
   "display_name": "venv",
   "language": "python",
   "name": "python3"
  },
  "language_info": {
   "codemirror_mode": {
    "name": "ipython",
    "version": 3
   },
   "file_extension": ".py",
   "mimetype": "text/x-python",
   "name": "python",
   "nbconvert_exporter": "python",
   "pygments_lexer": "ipython3",
   "version": "3.11.9"
  }
 },
 "nbformat": 4,
 "nbformat_minor": 2
}
