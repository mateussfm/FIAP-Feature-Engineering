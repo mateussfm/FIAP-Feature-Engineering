{
 "cells": [
  {
   "cell_type": "markdown",
   "metadata": {},
   "source": [
    "# 1 Introdução\n",
    "\n",
    "O desbalanceamento de classes é um problema comum em tarefas de aprendizado de máquina, onde uma ou mais classes estão sub-representadas em comparação com outras. Isso pode levar a modelos enviesados que não generalizam bem para dados desconhecidos.\n",
    "\n",
    "- Importância de Tratar o Desbalanceamento de Classes\n",
    "    - Classificação: Em problemas de classificação, modelos podem aprender a predizer majoritariamente a classe dominante, ignorando as classes minoritárias.\n",
    "    - Regressão: Para problemas de regressão, o desbalanceamento pode afetar a distribuição dos valores alvo, levando a previsões enviesadas."
   ]
  },
  {
   "cell_type": "markdown",
   "metadata": {},
   "source": [
    "# 2 Importação de Bibliotecas"
   ]
  },
  {
   "cell_type": "code",
   "execution_count": 1,
   "metadata": {},
   "outputs": [],
   "source": [
    "import pandas as pd\n",
    "import numpy as np\n",
    "from sklearn.model_selection import train_test_split\n",
    "from sklearn.ensemble import RandomForestClassifier\n",
    "from sklearn.metrics import classification_report, confusion_matrix, roc_curve, roc_auc_score, auc\n",
    "from imblearn.over_sampling import SMOTE\n",
    "from imblearn.under_sampling import RandomUnderSampler\n",
    "import matplotlib.pyplot as plt\n",
    "import seaborn as sns\n",
    "import zipfile"
   ]
  },
  {
   "cell_type": "markdown",
   "metadata": {},
   "source": [
    "# 3 Carregamento do dataset"
   ]
  },
  {
   "cell_type": "markdown",
   "metadata": {},
   "source": [
    "## 3.1 Descrição do Dataset\n",
    "\n",
    "Para este exemplo, utilizaremos o conhecido dataset \"Credit Card Fraud Detection\". Este dataset contém transações realizadas com cartões de crédito e é utilizado para prever se uma transação é fraudulenta ou não. O dataset é amplamente utilizado em estudos de detecção de fraudes, especialmente devido ao desafio do desbalanceamento de classes, onde as transações fraudulentas representam uma pequena fração do total.\n",
    "\n",
    "- Principais Características do Dataset:\n",
    "\n",
    "    - Time: Número de segundos que transcorreram entre a primeira transação no dataset e a transação atual. Pode ajudar a identificar padrões temporais de fraude.\n",
    "    - V1 a V28: 28 features numéricas que são o resultado de uma transformação de Principal Component Analysis (PCA), aplicada para anonimizar os dados originais. Essas variáveis encapsulam a informação transacional de uma forma que preserva a privacidade dos clientes.\n",
    "    - Amount: Valor da transação. Essa variável pode ser um indicativo de fraudes, uma vez que transações fraudulentas podem ter padrões específicos de valores.\n",
    "    - Class: Variável alvo binária que indica se a transação foi fraudulenta (1) ou legítima (0).\n",
    "\n",
    "- Importância das Variáveis:\n",
    "    - Time: Pode ser utilizado para analisar padrões temporais, como o horário do dia em que fraudes ocorrem com mais frequência.\n",
    "    - V1 a V28: As transformações PCA dificultam a interpretação direta dessas variáveis, mas elas são críticas para a modelagem, pois capturam padrões complexos de comportamento de compra.\n",
    "    - Amount: Frequentemente correlacionado com a probabilidade de fraude, pois fraudes podem estar associadas a transações atípicas em termos de valor.\n",
    "    - Class: A variável alvo que define o problema de classificação binária, onde o desafio reside em identificar as poucas fraudes (classe 1) dentro de uma massa de transações legítimas (classe 0).\n",
    "\n",
    "- Fonte do Dataset:\n",
    "\n",
    "    - O dataset está originalmente disponível no Kaggle: Credit Card Fraud Detection Dataset.\n"
   ]
  },
  {
   "cell_type": "code",
   "execution_count": 2,
   "metadata": {},
   "outputs": [],
   "source": [
    "# Caminho para o arquivo ZIP\n",
    "zip_path = 'datasets/credit_card.zip'\n",
    "\n",
    "# Nome do arquivo CSV dentro do ZIP\n",
    "csv_filename = 'credit_card.csv'\n",
    "\n",
    "# Ler o arquivo CSV diretamente do ZIP\n",
    "with zipfile.ZipFile(zip_path, 'r') as z:\n",
    "    with z.open(csv_filename) as f:\n",
    "        df = pd.read_csv(f)"
   ]
  },
  {
   "cell_type": "markdown",
   "metadata": {},
   "source": [
    "## 3.2 Exploração inicial dos dados"
   ]
  },
  {
   "cell_type": "code",
   "execution_count": 3,
   "metadata": {},
   "outputs": [
    {
     "data": {
      "text/html": [
       "<div>\n",
       "<style scoped>\n",
       "    .dataframe tbody tr th:only-of-type {\n",
       "        vertical-align: middle;\n",
       "    }\n",
       "\n",
       "    .dataframe tbody tr th {\n",
       "        vertical-align: top;\n",
       "    }\n",
       "\n",
       "    .dataframe thead th {\n",
       "        text-align: right;\n",
       "    }\n",
       "</style>\n",
       "<table border=\"1\" class=\"dataframe\">\n",
       "  <thead>\n",
       "    <tr style=\"text-align: right;\">\n",
       "      <th></th>\n",
       "      <th>Time</th>\n",
       "      <th>V1</th>\n",
       "      <th>V2</th>\n",
       "      <th>V3</th>\n",
       "      <th>V4</th>\n",
       "      <th>V5</th>\n",
       "      <th>V6</th>\n",
       "      <th>V7</th>\n",
       "      <th>V8</th>\n",
       "      <th>V9</th>\n",
       "      <th>...</th>\n",
       "      <th>V21</th>\n",
       "      <th>V22</th>\n",
       "      <th>V23</th>\n",
       "      <th>V24</th>\n",
       "      <th>V25</th>\n",
       "      <th>V26</th>\n",
       "      <th>V27</th>\n",
       "      <th>V28</th>\n",
       "      <th>Amount</th>\n",
       "      <th>Class</th>\n",
       "    </tr>\n",
       "  </thead>\n",
       "  <tbody>\n",
       "    <tr>\n",
       "      <th>0</th>\n",
       "      <td>0.0</td>\n",
       "      <td>-1.359807</td>\n",
       "      <td>-0.072781</td>\n",
       "      <td>2.536347</td>\n",
       "      <td>1.378155</td>\n",
       "      <td>-0.338321</td>\n",
       "      <td>0.462388</td>\n",
       "      <td>0.239599</td>\n",
       "      <td>0.098698</td>\n",
       "      <td>0.363787</td>\n",
       "      <td>...</td>\n",
       "      <td>-0.018307</td>\n",
       "      <td>0.277838</td>\n",
       "      <td>-0.110474</td>\n",
       "      <td>0.066928</td>\n",
       "      <td>0.128539</td>\n",
       "      <td>-0.189115</td>\n",
       "      <td>0.133558</td>\n",
       "      <td>-0.021053</td>\n",
       "      <td>149.62</td>\n",
       "      <td>0</td>\n",
       "    </tr>\n",
       "    <tr>\n",
       "      <th>1</th>\n",
       "      <td>0.0</td>\n",
       "      <td>1.191857</td>\n",
       "      <td>0.266151</td>\n",
       "      <td>0.166480</td>\n",
       "      <td>0.448154</td>\n",
       "      <td>0.060018</td>\n",
       "      <td>-0.082361</td>\n",
       "      <td>-0.078803</td>\n",
       "      <td>0.085102</td>\n",
       "      <td>-0.255425</td>\n",
       "      <td>...</td>\n",
       "      <td>-0.225775</td>\n",
       "      <td>-0.638672</td>\n",
       "      <td>0.101288</td>\n",
       "      <td>-0.339846</td>\n",
       "      <td>0.167170</td>\n",
       "      <td>0.125895</td>\n",
       "      <td>-0.008983</td>\n",
       "      <td>0.014724</td>\n",
       "      <td>2.69</td>\n",
       "      <td>0</td>\n",
       "    </tr>\n",
       "    <tr>\n",
       "      <th>2</th>\n",
       "      <td>1.0</td>\n",
       "      <td>-1.358354</td>\n",
       "      <td>-1.340163</td>\n",
       "      <td>1.773209</td>\n",
       "      <td>0.379780</td>\n",
       "      <td>-0.503198</td>\n",
       "      <td>1.800499</td>\n",
       "      <td>0.791461</td>\n",
       "      <td>0.247676</td>\n",
       "      <td>-1.514654</td>\n",
       "      <td>...</td>\n",
       "      <td>0.247998</td>\n",
       "      <td>0.771679</td>\n",
       "      <td>0.909412</td>\n",
       "      <td>-0.689281</td>\n",
       "      <td>-0.327642</td>\n",
       "      <td>-0.139097</td>\n",
       "      <td>-0.055353</td>\n",
       "      <td>-0.059752</td>\n",
       "      <td>378.66</td>\n",
       "      <td>0</td>\n",
       "    </tr>\n",
       "    <tr>\n",
       "      <th>3</th>\n",
       "      <td>1.0</td>\n",
       "      <td>-0.966272</td>\n",
       "      <td>-0.185226</td>\n",
       "      <td>1.792993</td>\n",
       "      <td>-0.863291</td>\n",
       "      <td>-0.010309</td>\n",
       "      <td>1.247203</td>\n",
       "      <td>0.237609</td>\n",
       "      <td>0.377436</td>\n",
       "      <td>-1.387024</td>\n",
       "      <td>...</td>\n",
       "      <td>-0.108300</td>\n",
       "      <td>0.005274</td>\n",
       "      <td>-0.190321</td>\n",
       "      <td>-1.175575</td>\n",
       "      <td>0.647376</td>\n",
       "      <td>-0.221929</td>\n",
       "      <td>0.062723</td>\n",
       "      <td>0.061458</td>\n",
       "      <td>123.50</td>\n",
       "      <td>0</td>\n",
       "    </tr>\n",
       "    <tr>\n",
       "      <th>4</th>\n",
       "      <td>2.0</td>\n",
       "      <td>-1.158233</td>\n",
       "      <td>0.877737</td>\n",
       "      <td>1.548718</td>\n",
       "      <td>0.403034</td>\n",
       "      <td>-0.407193</td>\n",
       "      <td>0.095921</td>\n",
       "      <td>0.592941</td>\n",
       "      <td>-0.270533</td>\n",
       "      <td>0.817739</td>\n",
       "      <td>...</td>\n",
       "      <td>-0.009431</td>\n",
       "      <td>0.798278</td>\n",
       "      <td>-0.137458</td>\n",
       "      <td>0.141267</td>\n",
       "      <td>-0.206010</td>\n",
       "      <td>0.502292</td>\n",
       "      <td>0.219422</td>\n",
       "      <td>0.215153</td>\n",
       "      <td>69.99</td>\n",
       "      <td>0</td>\n",
       "    </tr>\n",
       "  </tbody>\n",
       "</table>\n",
       "<p>5 rows × 31 columns</p>\n",
       "</div>"
      ],
      "text/plain": [
       "   Time        V1        V2        V3        V4        V5        V6        V7  \\\n",
       "0   0.0 -1.359807 -0.072781  2.536347  1.378155 -0.338321  0.462388  0.239599   \n",
       "1   0.0  1.191857  0.266151  0.166480  0.448154  0.060018 -0.082361 -0.078803   \n",
       "2   1.0 -1.358354 -1.340163  1.773209  0.379780 -0.503198  1.800499  0.791461   \n",
       "3   1.0 -0.966272 -0.185226  1.792993 -0.863291 -0.010309  1.247203  0.237609   \n",
       "4   2.0 -1.158233  0.877737  1.548718  0.403034 -0.407193  0.095921  0.592941   \n",
       "\n",
       "         V8        V9  ...       V21       V22       V23       V24       V25  \\\n",
       "0  0.098698  0.363787  ... -0.018307  0.277838 -0.110474  0.066928  0.128539   \n",
       "1  0.085102 -0.255425  ... -0.225775 -0.638672  0.101288 -0.339846  0.167170   \n",
       "2  0.247676 -1.514654  ...  0.247998  0.771679  0.909412 -0.689281 -0.327642   \n",
       "3  0.377436 -1.387024  ... -0.108300  0.005274 -0.190321 -1.175575  0.647376   \n",
       "4 -0.270533  0.817739  ... -0.009431  0.798278 -0.137458  0.141267 -0.206010   \n",
       "\n",
       "        V26       V27       V28  Amount  Class  \n",
       "0 -0.189115  0.133558 -0.021053  149.62      0  \n",
       "1  0.125895 -0.008983  0.014724    2.69      0  \n",
       "2 -0.139097 -0.055353 -0.059752  378.66      0  \n",
       "3 -0.221929  0.062723  0.061458  123.50      0  \n",
       "4  0.502292  0.219422  0.215153   69.99      0  \n",
       "\n",
       "[5 rows x 31 columns]"
      ]
     },
     "execution_count": 3,
     "metadata": {},
     "output_type": "execute_result"
    }
   ],
   "source": [
    "# Exibir as primeiras linhas do DataFrame\n",
    "df.head()"
   ]
  },
  {
   "cell_type": "code",
   "execution_count": 4,
   "metadata": {},
   "outputs": [
    {
     "name": "stdout",
     "output_type": "stream",
     "text": [
      "Tamanho do dataset: (284807, 31)\n",
      "Class\n",
      "0    0.998273\n",
      "1    0.001727\n",
      "Name: proportion, dtype: float64\n"
     ]
    }
   ],
   "source": [
    "# Checar possível desbalanceamento do dataset\n",
    "print(f'Tamanho do dataset: {df.shape}')\n",
    "\n",
    "print(df['Class'].value_counts(normalize=True))"
   ]
  },
  {
   "cell_type": "markdown",
   "metadata": {},
   "source": [
    "## 3.3 Criando separação inicial dos dados"
   ]
  },
  {
   "cell_type": "code",
   "execution_count": 5,
   "metadata": {},
   "outputs": [],
   "source": [
    "# Separação dos dados\n",
    "X_unbalaced, X_val, y_unbalanced, y_val = train_test_split(df.drop('Class', axis=1), df['Class'], test_size=0.2, random_state=42)\n",
    "\n",
    "# Concatenação dos dataframes\n",
    "df_unbalaced = pd.concat([X_unbalaced, y_unbalanced], axis=1)\n",
    "df_val = pd.concat([X_val, y_val], axis=1)"
   ]
  },
  {
   "cell_type": "code",
   "execution_count": 6,
   "metadata": {},
   "outputs": [
    {
     "name": "stdout",
     "output_type": "stream",
     "text": [
      "Tamanho do dataset: (227845, 31)\n",
      "Class\n",
      "0    0.998271\n",
      "1    0.001729\n",
      "Name: proportion, dtype: float64\n"
     ]
    }
   ],
   "source": [
    "# Checar possível desbalanceamento do dataset df_unbalanced\n",
    "print(f'Tamanho do dataset: {df_unbalaced.shape}')\n",
    "\n",
    "print(df_unbalaced['Class'].value_counts(normalize=True))"
   ]
  },
  {
   "cell_type": "code",
   "execution_count": 7,
   "metadata": {},
   "outputs": [
    {
     "name": "stdout",
     "output_type": "stream",
     "text": [
      "Tamanho do dataset: (56962, 31)\n",
      "Class\n",
      "0    0.99828\n",
      "1    0.00172\n",
      "Name: proportion, dtype: float64\n"
     ]
    }
   ],
   "source": [
    "# Checar possível desbalanceamento do dataset df_val\n",
    "print(f'Tamanho do dataset: {df_val.shape}')\n",
    "\n",
    "print(df_val['Class'].value_counts(normalize=True))"
   ]
  },
  {
   "cell_type": "markdown",
   "metadata": {},
   "source": [
    "# 4 Técnicas para Lidando com Desbalanceamento de Classes"
   ]
  },
  {
   "cell_type": "markdown",
   "metadata": {},
   "source": [
    "## 4.1 Under-sampling\n",
    "\n",
    "Under-sampling: Reduz o número de exemplos da classe majoritária para equilibrar as classes."
   ]
  },
  {
   "cell_type": "code",
   "execution_count": 8,
   "metadata": {},
   "outputs": [],
   "source": [
    "# Aplicação de Under-sampling\n",
    "undersample = RandomUnderSampler(sampling_strategy=.5)\n",
    "X_under, y_under = undersample.fit_resample(df_unbalaced.drop('Class', axis=1), df_unbalaced['Class'])"
   ]
  },
  {
   "cell_type": "code",
   "execution_count": 9,
   "metadata": {},
   "outputs": [
    {
     "name": "stdout",
     "output_type": "stream",
     "text": [
      "Tamanho do dataset: (1182,)\n",
      "Class\n",
      "0    0.666667\n",
      "1    0.333333\n",
      "Name: proportion, dtype: float64\n"
     ]
    }
   ],
   "source": [
    "# Checar possível desbalanceamento do dataset\n",
    "print(f'Tamanho do dataset: {y_under.shape}')\n",
    "\n",
    "print(y_under.value_counts(normalize=True))"
   ]
  },
  {
   "cell_type": "markdown",
   "metadata": {},
   "source": [
    "## 4.2 Over-sampling\n",
    "\n",
    "Over-sampling: Aumenta o número de exemplos da classe minoritária através de replicação ou geração de novos exemplos (e.g., SMOTE)."
   ]
  },
  {
   "cell_type": "code",
   "execution_count": 10,
   "metadata": {},
   "outputs": [],
   "source": [
    "# Aplicação de Over-sampling (SMOTE)\n",
    "smote = SMOTE(sampling_strategy=1.0)\n",
    "X_smote, y_smote = smote.fit_resample(df_unbalaced.drop('Class', axis=1), df_unbalaced['Class'])"
   ]
  },
  {
   "cell_type": "code",
   "execution_count": 11,
   "metadata": {},
   "outputs": [
    {
     "name": "stdout",
     "output_type": "stream",
     "text": [
      "Tamanho do dataset: (454902,)\n",
      "Class\n",
      "0    0.5\n",
      "1    0.5\n",
      "Name: proportion, dtype: float64\n"
     ]
    }
   ],
   "source": [
    "# Checar possível desbalanceamento do dataset\n",
    "print(f'Tamanho do dataset: {y_smote.shape}')\n",
    "\n",
    "print(y_smote.value_counts(normalize=True))"
   ]
  },
  {
   "cell_type": "markdown",
   "metadata": {},
   "source": [
    "# 5 Exemplo de ML: Comparando Resultados"
   ]
  },
  {
   "cell_type": "markdown",
   "metadata": {},
   "source": [
    "## 5.1 Comparando o desempenho nos dados desbalanceados"
   ]
  },
  {
   "cell_type": "code",
   "execution_count": 12,
   "metadata": {},
   "outputs": [
    {
     "name": "stdout",
     "output_type": "stream",
     "text": [
      "              precision    recall  f1-score   support\n",
      "\n",
      "           0       1.00      1.00      1.00     56864\n",
      "           1       0.97      0.79      0.87        98\n",
      "\n",
      "    accuracy                           1.00     56962\n",
      "   macro avg       0.99      0.89      0.93     56962\n",
      "weighted avg       1.00      1.00      1.00     56962\n",
      "\n"
     ]
    }
   ],
   "source": [
    "# Treinando o modelo sem pesos ajustados\n",
    "model = RandomForestClassifier()\n",
    "model.fit(df_unbalaced.drop(['Class'], axis=1), df_unbalaced['Class'])\n",
    "\n",
    "# Avaliação do modelo nos dados de Validação\n",
    "y_pred_unbalanced = model.predict(df_val.drop(['Class'], axis=1))\n",
    "print(classification_report(df_val['Class'], y_pred_unbalanced))"
   ]
  },
  {
   "cell_type": "code",
   "execution_count": 13,
   "metadata": {},
   "outputs": [
    {
     "name": "stdout",
     "output_type": "stream",
     "text": [
      "              precision    recall  f1-score   support\n",
      "\n",
      "           0       1.00      1.00      1.00     56864\n",
      "           1       0.99      0.76      0.86        98\n",
      "\n",
      "    accuracy                           1.00     56962\n",
      "   macro avg       0.99      0.88      0.93     56962\n",
      "weighted avg       1.00      1.00      1.00     56962\n",
      "\n"
     ]
    }
   ],
   "source": [
    "# Treinando o modelo com pesos ajustados\n",
    "model_weighted = RandomForestClassifier(class_weight='balanced')\n",
    "model_weighted.fit(df_unbalaced.drop(['Class'], axis=1), df_unbalaced['Class'])\n",
    "\n",
    "# Avaliação do modelo nos dados de Validação\n",
    "y_pred_class_weight = model_weighted.predict(df_val.drop(['Class'], axis=1))\n",
    "print(classification_report(df_val['Class'], y_pred_class_weight))"
   ]
  },
  {
   "cell_type": "markdown",
   "metadata": {},
   "source": [
    "## 5.2 Comparando o desempenho nos dados balanceados - Under-sampling"
   ]
  },
  {
   "cell_type": "code",
   "execution_count": 14,
   "metadata": {},
   "outputs": [
    {
     "name": "stdout",
     "output_type": "stream",
     "text": [
      "              precision    recall  f1-score   support\n",
      "\n",
      "           0       1.00      0.99      1.00     56864\n",
      "           1       0.22      0.91      0.35        98\n",
      "\n",
      "    accuracy                           0.99     56962\n",
      "   macro avg       0.61      0.95      0.67     56962\n",
      "weighted avg       1.00      0.99      1.00     56962\n",
      "\n"
     ]
    }
   ],
   "source": [
    "# Treinamento do modelo nos dados balancedados - Under-sampling\n",
    "model_under = RandomForestClassifier()\n",
    "model_under.fit(X_under, y_under)\n",
    "\n",
    "# Avaliação do modelo nos dados de Validação\n",
    "y_pred_under = model_under.predict(df_val.drop(['Class'], axis=1))\n",
    "print(classification_report(df_val['Class'], y_pred_under))"
   ]
  },
  {
   "cell_type": "markdown",
   "metadata": {},
   "source": [
    "## 5.3 Comparando o desempenho nos dados balanceados - SMOTE"
   ]
  },
  {
   "cell_type": "code",
   "execution_count": 15,
   "metadata": {},
   "outputs": [
    {
     "name": "stdout",
     "output_type": "stream",
     "text": [
      "              precision    recall  f1-score   support\n",
      "\n",
      "           0       1.00      1.00      1.00     56864\n",
      "           1       0.87      0.85      0.86        98\n",
      "\n",
      "    accuracy                           1.00     56962\n",
      "   macro avg       0.94      0.92      0.93     56962\n",
      "weighted avg       1.00      1.00      1.00     56962\n",
      "\n"
     ]
    }
   ],
   "source": [
    "# Treinamento do modelo nos dados balancedados - SMOTE\n",
    "model_smote = RandomForestClassifier()\n",
    "model_smote.fit(X_smote, y_smote)\n",
    "\n",
    "# Avaliação do modelo nos dados de Validação\n",
    "y_pred_smote = model_smote.predict(df_val.drop(['Class'], axis=1))\n",
    "print(classification_report(df_val['Class'], y_pred_smote))"
   ]
  },
  {
   "cell_type": "markdown",
   "metadata": {},
   "source": [
    "# 6 Comparação Gráfica dos Resultados"
   ]
  },
  {
   "cell_type": "markdown",
   "metadata": {},
   "source": [
    "## 6.1 Pequena Explicação\n",
    "\n",
    "A curva ROC (Receiver Operating Characteristic) é uma ferramenta gráfica utilizada para avaliar o desempenho de um modelo de classificação binária. Ela é construída ao plotar a taxa de verdadeiros positivos (True Positive Rate - TPR) contra a taxa de falsos positivos (False Positive Rate - FPR) para diferentes limiares de classificação.\n",
    "\n",
    "- Componentes Principais da Curva ROC:\n",
    "    - True Positive Rate (TPR): Também conhecido como sensibilidade ou recall, representa a proporção de positivos corretamente identificados pelo modelo.\n",
    "    - False Positive Rate (FPR): Representa a proporção de negativos que foram incorretamente classificados como positivos pelo modelo.\n",
    "​\n",
    "- Interpretação da Curva ROC:\n",
    "    - Diagonal (linha pontilhada): Representa um modelo que faz classificações aleatórias, ou seja, não é melhor do que um chute.\n",
    "    - Curva próxima ao canto superior esquerdo: Indica um bom desempenho do modelo, com alta taxa de verdadeiros positivos e baixa taxa de falsos positivos.\n",
    "    - AUC (Área Sob a Curva): Um valor que resume a curva ROC em um único número, variando de 0 a 1. Quanto mais próximo de 1, melhor o modelo.\n",
    "\n",
    "No contexto de modelos desbalanceados, a curva ROC e a AUC são especialmente úteis, pois oferecem uma visão mais completa da capacidade do modelo em distinguir entre as classes, independentemente do limiar de decisão escolhido."
   ]
  },
  {
   "cell_type": "code",
   "execution_count": 16,
   "metadata": {},
   "outputs": [],
   "source": [
    "# Curva ROC para comparação entre modelos\n",
    "fpr_unbalanced, tpr_unbalanced, _ = roc_curve(df_val['Class'], y_pred_unbalanced)\n",
    "fpr_class_weight, tpr_class_weight, _ = roc_curve(df_val['Class'], y_pred_class_weight)\n",
    "fpr_under, tpr_under, _ = roc_curve(df_val['Class'], y_pred_under)\n",
    "fpr_smote, tpr_smote, _ = roc_curve(df_val['Class'], y_pred_smote) \n",
    "\n",
    "# Calculando a AUC para cada modelo\n",
    "auc_unbalanced = roc_auc_score(df_val['Class'], y_pred_unbalanced)\n",
    "auc_class_weight = roc_auc_score(df_val['Class'], y_pred_class_weight)\n",
    "auc_under = roc_auc_score(df_val['Class'], y_pred_under)\n",
    "auc_smote = roc_auc_score(df_val['Class'], y_pred_smote)"
   ]
  },
  {
   "cell_type": "code",
   "execution_count": 17,
   "metadata": {},
   "outputs": [
    {
     "data": {
      "image/png": "[encoded data removed]",
      "text/plain": [
       "<Figure size 1000x600 with 1 Axes>"
      ]
     },
     "metadata": {},
     "output_type": "display_data"
    }
   ],
   "source": [
    "# Plotando as curvas ROC com AUC nas legendas\n",
    "plt.figure(figsize=(10, 6))\n",
    "plt.plot(fpr_unbalanced, tpr_unbalanced, label=f\"Modelo com dados desbalanceados (AUC = {auc_unbalanced:.2f})\")\n",
    "plt.plot(fpr_class_weight, tpr_class_weight, label=f\"Modelo com Class Weight (AUC = {auc_class_weight:.2f})\")\n",
    "plt.plot(fpr_under, tpr_under, label=f\"Modelo com dados balanceados - Under-sampling (AUC = {auc_under:.2f})\")\n",
    "plt.plot(fpr_smote, tpr_smote, label=f\"Modelo com dados balanceados - SMOTE (AUC = {auc_smote:.2f})\")\n",
    "plt.plot([0, 1], [0, 1], 'k--')  # Linha diagonal representando um modelo aleatório\n",
    "plt.xlabel('Taxa de Falsos Positivos')\n",
    "plt.ylabel('Taxa de Verdadeiros Positivos')\n",
    "plt.title('Comparação das Curvas ROC')\n",
    "plt.legend()\n",
    "\n",
    "# Configurando o estilo do seaborn para 'darkgrid'\n",
    "sns.set(style=\"darkgrid\")\n",
    "\n",
    "plt.show()"
   ]
  }
 ],
 "metadata": {
  "kernelspec": {
   "display_name": "venv",
   "language": "python",
   "name": "python3"
  },
  "language_info": {
   "codemirror_mode": {
    "name": "ipython",
    "version": 3
   },
   "file_extension": ".py",
   "mimetype": "text/x-python",
   "name": "python",
   "nbconvert_exporter": "python",
   "pygments_lexer": "ipython3",
   "version": "3.11.9"
  }
 },
 "nbformat": 4,
 "nbformat_minor": 2
}
